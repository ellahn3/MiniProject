{
 "cells": [
  {
   "cell_type": "code",
   "execution_count": 1,
   "metadata": {},
   "outputs": [
    {
     "name": "stdout",
     "output_type": "stream",
     "text": [
      "Defaulting to user installation because normal site-packages is not writeable\n",
      "Requirement already satisfied: opendatasets in ./.local/lib/python3.7/site-packages (0.1.20)\n",
      "Requirement already satisfied: tqdm in /usr/local/anaconda3/lib/python3.7/site-packages (from opendatasets) (4.46.0)\n",
      "Requirement already satisfied: kaggle in ./.local/lib/python3.7/site-packages (from opendatasets) (1.5.12)\n",
      "Requirement already satisfied: click in /usr/local/anaconda3/lib/python3.7/site-packages (from opendatasets) (7.1.2)\n",
      "Requirement already satisfied: urllib3 in /usr/local/anaconda3/lib/python3.7/site-packages (from kaggle->opendatasets) (1.25.8)\n",
      "Requirement already satisfied: python-dateutil in /usr/local/anaconda3/lib/python3.7/site-packages (from kaggle->opendatasets) (2.8.1)\n",
      "Requirement already satisfied: requests in /usr/local/anaconda3/lib/python3.7/site-packages (from kaggle->opendatasets) (2.23.0)\n",
      "Requirement already satisfied: python-slugify in ./.local/lib/python3.7/site-packages (from kaggle->opendatasets) (6.1.1)\n",
      "Requirement already satisfied: certifi in /usr/local/anaconda3/lib/python3.7/site-packages (from kaggle->opendatasets) (2020.4.5.1)\n",
      "Requirement already satisfied: six>=1.10 in /usr/local/anaconda3/lib/python3.7/site-packages (from kaggle->opendatasets) (1.14.0)\n",
      "Requirement already satisfied: chardet<4,>=3.0.2 in /usr/local/anaconda3/lib/python3.7/site-packages (from requests->kaggle->opendatasets) (3.0.4)\n",
      "Requirement already satisfied: idna<3,>=2.5 in /usr/local/anaconda3/lib/python3.7/site-packages (from requests->kaggle->opendatasets) (2.9)\n",
      "Requirement already satisfied: text-unidecode>=1.3 in ./.local/lib/python3.7/site-packages (from python-slugify->kaggle->opendatasets) (1.3)\n",
      "\u001b[33mWARNING: You are using pip version 20.2.3; however, version 22.0.4 is available.\n",
      "You should consider upgrading via the '/usr/local/anaconda3/bin/python -m pip install --upgrade pip' command.\u001b[0m\n"
     ]
    }
   ],
   "source": [
    "!pip install opendatasets"
   ]
  },
  {
   "cell_type": "code",
   "execution_count": 7,
   "metadata": {},
   "outputs": [
    {
     "name": "stdout",
     "output_type": "stream",
     "text": [
      "Please provide your Kaggle credentials to download this dataset. Learn more: http://bit.ly/kaggle-creds\n",
      "Your Kaggle username: ellahanzin\n",
      "Your Kaggle Key: ········\n"
     ]
    },
    {
     "name": "stderr",
     "output_type": "stream",
     "text": [
      "\r",
      "  0%|          | 0.00/778M [00:00<?, ?B/s]"
     ]
    },
    {
     "name": "stdout",
     "output_type": "stream",
     "text": [
      "Downloading covid19-radiography-database.zip to ./covid19-radiography-database\n"
     ]
    },
    {
     "name": "stderr",
     "output_type": "stream",
     "text": [
      "100%|██████████| 778M/778M [00:11<00:00, 71.8MB/s] "
     ]
    },
    {
     "name": "stdout",
     "output_type": "stream",
     "text": [
      "\n"
     ]
    },
    {
     "name": "stderr",
     "output_type": "stream",
     "text": [
      "\n"
     ]
    }
   ],
   "source": [
    "import opendatasets as od\n",
    "od.download(\"https://www.kaggle.com/tawsifurrahman/covid19-radiography-database\")"
   ]
  },
  {
   "cell_type": "code",
   "execution_count": 3,
   "metadata": {},
   "outputs": [
    {
     "name": "stdout",
     "output_type": "stream",
     "text": [
      "Defaulting to user installation because normal site-packages is not writeable\n",
      "Requirement already satisfied: seaborn in /usr/local/anaconda3/lib/python3.7/site-packages (0.10.1)\n",
      "Requirement already satisfied: pandas>=0.22.0 in /usr/local/anaconda3/lib/python3.7/site-packages (from seaborn) (1.0.3)\n",
      "Requirement already satisfied: matplotlib>=2.1.2 in /usr/local/anaconda3/lib/python3.7/site-packages (from seaborn) (3.2.1)\n",
      "Requirement already satisfied: scipy>=1.0.1 in /usr/local/anaconda3/lib/python3.7/site-packages (from seaborn) (1.4.1)\n",
      "Requirement already satisfied: numpy>=1.13.3 in ./.local/lib/python3.7/site-packages (from seaborn) (1.21.6)\n",
      "Requirement already satisfied: pytz>=2017.2 in /usr/local/anaconda3/lib/python3.7/site-packages (from pandas>=0.22.0->seaborn) (2020.1)\n",
      "Requirement already satisfied: python-dateutil>=2.6.1 in /usr/local/anaconda3/lib/python3.7/site-packages (from pandas>=0.22.0->seaborn) (2.8.1)\n",
      "Requirement already satisfied: pyparsing!=2.0.4,!=2.1.2,!=2.1.6,>=2.0.1 in /usr/local/anaconda3/lib/python3.7/site-packages (from matplotlib>=2.1.2->seaborn) (2.4.7)\n",
      "Requirement already satisfied: kiwisolver>=1.0.1 in /usr/local/anaconda3/lib/python3.7/site-packages (from matplotlib>=2.1.2->seaborn) (1.2.0)\n",
      "Requirement already satisfied: cycler>=0.10 in /usr/local/anaconda3/lib/python3.7/site-packages (from matplotlib>=2.1.2->seaborn) (0.10.0)\n",
      "Requirement already satisfied: six>=1.5 in /usr/local/anaconda3/lib/python3.7/site-packages (from python-dateutil>=2.6.1->pandas>=0.22.0->seaborn) (1.14.0)\n",
      "\u001b[33mWARNING: You are using pip version 20.2.3; however, version 22.0.4 is available.\n",
      "You should consider upgrading via the '/usr/local/anaconda3/bin/python -m pip install --upgrade pip' command.\u001b[0m\n",
      "Defaulting to user installation because normal site-packages is not writeable\n",
      "Requirement already satisfied: keras in ./.local/lib/python3.7/site-packages (2.8.0)\n",
      "\u001b[33mWARNING: You are using pip version 20.2.3; however, version 22.0.4 is available.\n",
      "You should consider upgrading via the '/usr/local/anaconda3/bin/python -m pip install --upgrade pip' command.\u001b[0m\n",
      "Defaulting to user installation because normal site-packages is not writeable\n",
      "Requirement already satisfied: tensorflow in ./.local/lib/python3.7/site-packages (2.8.0)\n",
      "Requirement already satisfied: protobuf>=3.9.2 in /usr/local/anaconda3/lib/python3.7/site-packages (from tensorflow) (3.12.1)\n",
      "Requirement already satisfied: keras-preprocessing>=1.1.1 in /usr/local/anaconda3/lib/python3.7/site-packages (from tensorflow) (1.1.2)\n",
      "Requirement already satisfied: numpy>=1.20 in ./.local/lib/python3.7/site-packages (from tensorflow) (1.21.6)\n",
      "Requirement already satisfied: libclang>=9.0.1 in ./.local/lib/python3.7/site-packages (from tensorflow) (14.0.1)\n",
      "Requirement already satisfied: gast>=0.2.1 in /usr/local/anaconda3/lib/python3.7/site-packages (from tensorflow) (0.3.3)\n",
      "Requirement already satisfied: h5py>=2.9.0 in /usr/local/anaconda3/lib/python3.7/site-packages (from tensorflow) (2.10.0)\n",
      "Requirement already satisfied: six>=1.12.0 in /usr/local/anaconda3/lib/python3.7/site-packages (from tensorflow) (1.14.0)\n",
      "Requirement already satisfied: opt-einsum>=2.3.2 in /usr/local/anaconda3/lib/python3.7/site-packages (from tensorflow) (3.2.1)\n",
      "Requirement already satisfied: typing-extensions>=3.6.6 in /usr/local/anaconda3/lib/python3.7/site-packages (from tensorflow) (3.7.4.1)\n",
      "Requirement already satisfied: tensorboard<2.9,>=2.8 in ./.local/lib/python3.7/site-packages (from tensorflow) (2.8.0)\n",
      "Requirement already satisfied: setuptools in /usr/local/anaconda3/lib/python3.7/site-packages (from tensorflow) (46.4.0.post20200518)\n",
      "Requirement already satisfied: keras<2.9,>=2.8.0rc0 in ./.local/lib/python3.7/site-packages (from tensorflow) (2.8.0)\n",
      "Requirement already satisfied: tensorflow-io-gcs-filesystem>=0.23.1 in ./.local/lib/python3.7/site-packages (from tensorflow) (0.25.0)\n",
      "Requirement already satisfied: termcolor>=1.1.0 in /usr/local/anaconda3/lib/python3.7/site-packages (from tensorflow) (1.1.0)\n",
      "Requirement already satisfied: grpcio<2.0,>=1.24.3 in /usr/local/anaconda3/lib/python3.7/site-packages (from tensorflow) (1.29.0)\n",
      "Requirement already satisfied: tf-estimator-nightly==2.8.0.dev2021122109 in ./.local/lib/python3.7/site-packages (from tensorflow) (2.8.0.dev2021122109)\n",
      "Requirement already satisfied: wrapt>=1.11.0 in /usr/local/anaconda3/lib/python3.7/site-packages (from tensorflow) (1.11.2)\n",
      "Requirement already satisfied: google-pasta>=0.1.1 in /usr/local/anaconda3/lib/python3.7/site-packages (from tensorflow) (0.2.0)\n",
      "Requirement already satisfied: astunparse>=1.6.0 in /usr/local/anaconda3/lib/python3.7/site-packages (from tensorflow) (1.6.3)\n",
      "Requirement already satisfied: flatbuffers>=1.12 in ./.local/lib/python3.7/site-packages (from tensorflow) (2.0)\n",
      "Requirement already satisfied: absl-py>=0.4.0 in /usr/local/anaconda3/lib/python3.7/site-packages (from tensorflow) (0.9.0)\n",
      "Requirement already satisfied: tensorboard-plugin-wit>=1.6.0 in /usr/local/anaconda3/lib/python3.7/site-packages (from tensorboard<2.9,>=2.8->tensorflow) (1.6.0.post3)\n",
      "Requirement already satisfied: markdown>=2.6.8 in /usr/local/anaconda3/lib/python3.7/site-packages (from tensorboard<2.9,>=2.8->tensorflow) (3.2.2)\n",
      "Requirement already satisfied: tensorboard-data-server<0.7.0,>=0.6.0 in ./.local/lib/python3.7/site-packages (from tensorboard<2.9,>=2.8->tensorflow) (0.6.1)\n",
      "Requirement already satisfied: google-auth-oauthlib<0.5,>=0.4.1 in /usr/local/anaconda3/lib/python3.7/site-packages (from tensorboard<2.9,>=2.8->tensorflow) (0.4.1)\n",
      "Requirement already satisfied: werkzeug>=0.11.15 in /usr/local/anaconda3/lib/python3.7/site-packages (from tensorboard<2.9,>=2.8->tensorflow) (1.0.1)\n",
      "Requirement already satisfied: google-auth<3,>=1.6.3 in /usr/local/anaconda3/lib/python3.7/site-packages (from tensorboard<2.9,>=2.8->tensorflow) (1.15.0)\n",
      "Requirement already satisfied: wheel>=0.26 in /usr/local/anaconda3/lib/python3.7/site-packages (from tensorboard<2.9,>=2.8->tensorflow) (0.34.2)\n",
      "Requirement already satisfied: requests<3,>=2.21.0 in /usr/local/anaconda3/lib/python3.7/site-packages (from tensorboard<2.9,>=2.8->tensorflow) (2.23.0)\n",
      "Requirement already satisfied: importlib-metadata; python_version < \"3.8\" in /usr/local/anaconda3/lib/python3.7/site-packages (from markdown>=2.6.8->tensorboard<2.9,>=2.8->tensorflow) (1.6.0)\n",
      "Requirement already satisfied: requests-oauthlib>=0.7.0 in /usr/local/anaconda3/lib/python3.7/site-packages (from google-auth-oauthlib<0.5,>=0.4.1->tensorboard<2.9,>=2.8->tensorflow) (1.3.0)\n",
      "Requirement already satisfied: cachetools<5.0,>=2.0.0 in /usr/local/anaconda3/lib/python3.7/site-packages (from google-auth<3,>=1.6.3->tensorboard<2.9,>=2.8->tensorflow) (4.1.0)\n",
      "Requirement already satisfied: rsa<4.1,>=3.1.4 in /usr/local/anaconda3/lib/python3.7/site-packages (from google-auth<3,>=1.6.3->tensorboard<2.9,>=2.8->tensorflow) (4.0)\n",
      "Requirement already satisfied: pyasn1-modules>=0.2.1 in /usr/local/anaconda3/lib/python3.7/site-packages (from google-auth<3,>=1.6.3->tensorboard<2.9,>=2.8->tensorflow) (0.2.8)\n",
      "Requirement already satisfied: idna<3,>=2.5 in /usr/local/anaconda3/lib/python3.7/site-packages (from requests<3,>=2.21.0->tensorboard<2.9,>=2.8->tensorflow) (2.9)\n",
      "Requirement already satisfied: urllib3!=1.25.0,!=1.25.1,<1.26,>=1.21.1 in /usr/local/anaconda3/lib/python3.7/site-packages (from requests<3,>=2.21.0->tensorboard<2.9,>=2.8->tensorflow) (1.25.8)\n",
      "Requirement already satisfied: certifi>=2017.4.17 in /usr/local/anaconda3/lib/python3.7/site-packages (from requests<3,>=2.21.0->tensorboard<2.9,>=2.8->tensorflow) (2020.4.5.1)\n",
      "Requirement already satisfied: chardet<4,>=3.0.2 in /usr/local/anaconda3/lib/python3.7/site-packages (from requests<3,>=2.21.0->tensorboard<2.9,>=2.8->tensorflow) (3.0.4)\n",
      "Requirement already satisfied: zipp>=0.5 in /usr/local/anaconda3/lib/python3.7/site-packages (from importlib-metadata; python_version < \"3.8\"->markdown>=2.6.8->tensorboard<2.9,>=2.8->tensorflow) (3.1.0)\n",
      "Requirement already satisfied: oauthlib>=3.0.0 in /usr/local/anaconda3/lib/python3.7/site-packages (from requests-oauthlib>=0.7.0->google-auth-oauthlib<0.5,>=0.4.1->tensorboard<2.9,>=2.8->tensorflow) (3.1.0)\n",
      "Requirement already satisfied: pyasn1>=0.1.3 in /usr/local/anaconda3/lib/python3.7/site-packages (from rsa<4.1,>=3.1.4->google-auth<3,>=1.6.3->tensorboard<2.9,>=2.8->tensorflow) (0.4.8)\n"
     ]
    },
    {
     "name": "stdout",
     "output_type": "stream",
     "text": [
      "\u001b[33mWARNING: You are using pip version 20.2.3; however, version 22.0.4 is available.\n",
      "You should consider upgrading via the '/usr/local/anaconda3/bin/python -m pip install --upgrade pip' command.\u001b[0m\n",
      "Defaulting to user installation because normal site-packages is not writeable\n",
      "Requirement already satisfied: tensorflow_hub in ./.local/lib/python3.7/site-packages (0.12.0)\n",
      "Requirement already satisfied: numpy>=1.12.0 in ./.local/lib/python3.7/site-packages (from tensorflow_hub) (1.21.6)\n",
      "Requirement already satisfied: protobuf>=3.8.0 in /usr/local/anaconda3/lib/python3.7/site-packages (from tensorflow_hub) (3.12.1)\n",
      "Requirement already satisfied: six>=1.9 in /usr/local/anaconda3/lib/python3.7/site-packages (from protobuf>=3.8.0->tensorflow_hub) (1.14.0)\n",
      "Requirement already satisfied: setuptools in /usr/local/anaconda3/lib/python3.7/site-packages (from protobuf>=3.8.0->tensorflow_hub) (46.4.0.post20200518)\n",
      "\u001b[33mWARNING: You are using pip version 20.2.3; however, version 22.0.4 is available.\n",
      "You should consider upgrading via the '/usr/local/anaconda3/bin/python -m pip install --upgrade pip' command.\u001b[0m\n",
      "Defaulting to user installation because normal site-packages is not writeable\n",
      "Requirement already satisfied: opendatasets in ./.local/lib/python3.7/site-packages (0.1.20)\n",
      "Requirement already satisfied: tqdm in /usr/local/anaconda3/lib/python3.7/site-packages (from opendatasets) (4.46.0)\n",
      "Requirement already satisfied: kaggle in ./.local/lib/python3.7/site-packages (from opendatasets) (1.5.12)\n",
      "Requirement already satisfied: click in /usr/local/anaconda3/lib/python3.7/site-packages (from opendatasets) (7.1.2)\n",
      "Requirement already satisfied: python-dateutil in /usr/local/anaconda3/lib/python3.7/site-packages (from kaggle->opendatasets) (2.8.1)\n",
      "Requirement already satisfied: certifi in /usr/local/anaconda3/lib/python3.7/site-packages (from kaggle->opendatasets) (2020.4.5.1)\n",
      "Requirement already satisfied: urllib3 in /usr/local/anaconda3/lib/python3.7/site-packages (from kaggle->opendatasets) (1.25.8)\n",
      "Requirement already satisfied: requests in /usr/local/anaconda3/lib/python3.7/site-packages (from kaggle->opendatasets) (2.23.0)\n",
      "Requirement already satisfied: six>=1.10 in /usr/local/anaconda3/lib/python3.7/site-packages (from kaggle->opendatasets) (1.14.0)\n",
      "Requirement already satisfied: python-slugify in ./.local/lib/python3.7/site-packages (from kaggle->opendatasets) (6.1.1)\n",
      "Requirement already satisfied: chardet<4,>=3.0.2 in /usr/local/anaconda3/lib/python3.7/site-packages (from requests->kaggle->opendatasets) (3.0.4)\n",
      "Requirement already satisfied: idna<3,>=2.5 in /usr/local/anaconda3/lib/python3.7/site-packages (from requests->kaggle->opendatasets) (2.9)\n",
      "Requirement already satisfied: text-unidecode>=1.3 in ./.local/lib/python3.7/site-packages (from python-slugify->kaggle->opendatasets) (1.3)\n",
      "\u001b[33mWARNING: You are using pip version 20.2.3; however, version 22.0.4 is available.\n",
      "You should consider upgrading via the '/usr/local/anaconda3/bin/python -m pip install --upgrade pip' command.\u001b[0m\n"
     ]
    }
   ],
   "source": [
    "!pip install seaborn\n",
    "!pip install keras\n",
    "!pip install tensorflow\n",
    "!pip install tensorflow_hub\n",
    "!pip install opendatasets"
   ]
  },
  {
   "cell_type": "code",
   "execution_count": 4,
   "metadata": {},
   "outputs": [
    {
     "data": {
      "text/plain": [
       "[]"
      ]
     },
     "execution_count": 4,
     "metadata": {},
     "output_type": "execute_result"
    }
   ],
   "source": [
    "import os\n",
    "#!ls covid19-radiography-database/COVID-19_Radiography_Dataset/COVID/images\n",
    "\n",
    "mylist = os.listdir(\"covid19-radiography-database/COVID-19_Radiography_Dataset/COVID/images\") \n",
    "\n",
    "\n",
    "# In[33]:\n",
    "\n",
    "\n",
    "mylist[:10]\n",
    "\n"
   ]
  },
  {
   "cell_type": "code",
   "execution_count": 5,
   "metadata": {},
   "outputs": [
    {
     "ename": "ValueError",
     "evalue": "Sample larger than population or is negative",
     "output_type": "error",
     "traceback": [
      "\u001b[0;31m---------------------------------------------------------------------------\u001b[0m",
      "\u001b[0;31mValueError\u001b[0m                                Traceback (most recent call last)",
      "\u001b[0;32m<ipython-input-5-6a88ef68ef66>\u001b[0m in \u001b[0;36m<module>\u001b[0;34m\u001b[0m\n\u001b[1;32m     45\u001b[0m \u001b[0;31m#http://127.0.0.1:8888/tree/covid19-radiography-database/COVID-19_Radiography_Dataset/Viral%20Pneumonia\u001b[0m\u001b[0;34m\u001b[0m\u001b[0;34m\u001b[0m\u001b[0;34m\u001b[0m\u001b[0m\n\u001b[1;32m     46\u001b[0m \u001b[0mrandom\u001b[0m\u001b[0;34m.\u001b[0m\u001b[0mseed\u001b[0m\u001b[0;34m(\u001b[0m\u001b[0;36m42\u001b[0m\u001b[0;34m)\u001b[0m\u001b[0;34m\u001b[0m\u001b[0;34m\u001b[0m\u001b[0m\n\u001b[0;32m---> 47\u001b[0;31m \u001b[0mfilenames\u001b[0m \u001b[0;34m=\u001b[0m \u001b[0mos\u001b[0m\u001b[0;34m.\u001b[0m\u001b[0mlistdir\u001b[0m\u001b[0;34m(\u001b[0m\u001b[0mc\u001b[0m\u001b[0;34m)\u001b[0m \u001b[0;34m+\u001b[0m \u001b[0mrandom\u001b[0m\u001b[0;34m.\u001b[0m\u001b[0msample\u001b[0m\u001b[0;34m(\u001b[0m\u001b[0mos\u001b[0m\u001b[0;34m.\u001b[0m\u001b[0mlistdir\u001b[0m\u001b[0;34m(\u001b[0m\u001b[0mn\u001b[0m\u001b[0;34m)\u001b[0m\u001b[0;34m,\u001b[0m \u001b[0;36m5000\u001b[0m\u001b[0;34m)\u001b[0m \u001b[0;34m+\u001b[0m \u001b[0mos\u001b[0m\u001b[0;34m.\u001b[0m\u001b[0mlistdir\u001b[0m\u001b[0;34m(\u001b[0m\u001b[0mp\u001b[0m\u001b[0;34m)\u001b[0m\u001b[0;34m\u001b[0m\u001b[0;34m\u001b[0m\u001b[0m\n\u001b[0m\u001b[1;32m     48\u001b[0m \u001b[0;34m\u001b[0m\u001b[0m\n\u001b[1;32m     49\u001b[0m \u001b[0;34m\u001b[0m\u001b[0m\n",
      "\u001b[0;32m/usr/local/anaconda3/lib/python3.7/random.py\u001b[0m in \u001b[0;36msample\u001b[0;34m(self, population, k)\u001b[0m\n\u001b[1;32m    319\u001b[0m         \u001b[0mn\u001b[0m \u001b[0;34m=\u001b[0m \u001b[0mlen\u001b[0m\u001b[0;34m(\u001b[0m\u001b[0mpopulation\u001b[0m\u001b[0;34m)\u001b[0m\u001b[0;34m\u001b[0m\u001b[0;34m\u001b[0m\u001b[0m\n\u001b[1;32m    320\u001b[0m         \u001b[0;32mif\u001b[0m \u001b[0;32mnot\u001b[0m \u001b[0;36m0\u001b[0m \u001b[0;34m<=\u001b[0m \u001b[0mk\u001b[0m \u001b[0;34m<=\u001b[0m \u001b[0mn\u001b[0m\u001b[0;34m:\u001b[0m\u001b[0;34m\u001b[0m\u001b[0;34m\u001b[0m\u001b[0m\n\u001b[0;32m--> 321\u001b[0;31m             \u001b[0;32mraise\u001b[0m \u001b[0mValueError\u001b[0m\u001b[0;34m(\u001b[0m\u001b[0;34m\"Sample larger than population or is negative\"\u001b[0m\u001b[0;34m)\u001b[0m\u001b[0;34m\u001b[0m\u001b[0;34m\u001b[0m\u001b[0m\n\u001b[0m\u001b[1;32m    322\u001b[0m         \u001b[0mresult\u001b[0m \u001b[0;34m=\u001b[0m \u001b[0;34m[\u001b[0m\u001b[0;32mNone\u001b[0m\u001b[0;34m]\u001b[0m \u001b[0;34m*\u001b[0m \u001b[0mk\u001b[0m\u001b[0;34m\u001b[0m\u001b[0;34m\u001b[0m\u001b[0m\n\u001b[1;32m    323\u001b[0m         \u001b[0msetsize\u001b[0m \u001b[0;34m=\u001b[0m \u001b[0;36m21\u001b[0m        \u001b[0;31m# size of a small set minus size of an empty list\u001b[0m\u001b[0;34m\u001b[0m\u001b[0;34m\u001b[0m\u001b[0m\n",
      "\u001b[0;31mValueError\u001b[0m: Sample larger than population or is negative"
     ]
    }
   ],
   "source": [
    "\n",
    "# In[44]:\n",
    "\n",
    "\n",
    "get_ipython().system(\"ls covid19-radiography-database/COVID-19_Radiography_Dataset/'Viral Pneumonia'/images/\")\n",
    "\n",
    "\n",
    "# In[8]:\n",
    "\n",
    "\n",
    "\n",
    "import numpy as np\n",
    "import pandas as pd\n",
    "\n",
    "import matplotlib.pyplot as plt\n",
    "import seaborn as sns\n",
    "sns.set_style('darkgrid')\n",
    "\n",
    "from tensorflow import keras\n",
    "#from keras.preprocessing.image import ImageDataGenerator, load_img\n",
    "import matplotlib.pylab as plt\n",
    "import tensorflow as tf\n",
    "import tensorflow_hub as hub\n",
    "import numpy as np\n",
    "import pandas as pd\n",
    "import matplotlib.pylab as plt\n",
    "import os\n",
    "\n",
    "import warnings\n",
    "warnings.filterwarnings('ignore')\n",
    "import random\n",
    "#from sklearn.model_selection import train_test_split\n",
    "from keras.preprocessing.image import load_img\n",
    "from keras.preprocessing.image import img_to_array\n",
    "from keras.preprocessing.image import ImageDataGenerator\n",
    "\n",
    "\n",
    "# In[45]:\n",
    "\n",
    "\n",
    "c = 'covid19-radiography-database/COVID-19_Radiography_Dataset/COVID/images'\n",
    "n = 'covid19-radiography-database/COVID-19_Radiography_Dataset/Normal/images'\n",
    "p = 'covid19-radiography-database/COVID-19_Radiography_Dataset/Viral Pneumonia/images'\n",
    "#http://127.0.0.1:8888/tree/covid19-radiography-database/COVID-19_Radiography_Dataset/COVID/images\n",
    "#http://127.0.0.1:8888/tree/covid19-radiography-database/COVID-19_Radiography_Dataset/Normal\n",
    "#http://127.0.0.1:8888/tree/covid19-radiography-database/COVID-19_Radiography_Dataset/Viral%20Pneumonia\n",
    "random.seed(42)\n",
    "filenames = os.listdir(c) + random.sample(os.listdir(n), 5000) + os.listdir(p)\n",
    "\n",
    "\n",
    "# In[46]:\n",
    "\n"
   ]
  },
  {
   "cell_type": "code",
   "execution_count": null,
   "metadata": {},
   "outputs": [],
   "source": [
    "categories = []\n",
    "for filename in filenames:\n",
    "    category = filename.split('-')[0]\n",
    "    if category == 'COVID':\n",
    "        categories.append(str(2))\n",
    "    elif category == 'Viral Pneumonia':\n",
    "        categories.append(str(1))\n",
    "    else:\n",
    "        categories.append(str(0))\n",
    "\n",
    "\n",
    "\n",
    "for i in range(len(filenames)):\n",
    "    if 'COVID' in filenames[i]:\n",
    "        filenames[i] = os.path.join(c, filenames[i])\n",
    "    elif 'Viral Pneumonia' in filenames[i]:\n",
    "        filenames[i] = os.path.join(p, filenames[i])\n",
    "    else:\n",
    "        filenames[i] = os.path.join(n, filenames[i])\n",
    "    \n",
    "df = pd.DataFrame({\n",
    "    'filename': filenames,\n",
    "    'category': categories\n",
    "})\n",
    "df.head()\n",
    "\n"
   ]
  },
  {
   "cell_type": "code",
   "execution_count": 8,
   "metadata": {},
   "outputs": [
    {
     "data": {
      "image/png": "[encoded data removed]",
      "text/plain": [
       "<Figure size 864x216 with 1 Axes>"
      ]
     },
     "metadata": {},
     "output_type": "display_data"
    }
   ],
   "source": [
    "plt.figure(figsize=(12,3))\n",
    "splot = sns.countplot(data = df.sort_values(by='category'), y ='category', palette='cool', saturation=0.9)\n",
    "\n",
    "plt.show()"
   ]
  },
  {
   "cell_type": "code",
   "execution_count": 9,
   "metadata": {},
   "outputs": [
    {
     "data": {
      "image/png": "[encoded data removed]",
      "text/plain": [
       "<Figure size 432x288 with 1 Axes>"
      ]
     },
     "metadata": {},
     "output_type": "display_data"
    }
   ],
   "source": [
    "sample = random.choice(df['filename'])\n",
    "image = load_img(sample)\n",
    "plt.imshow(image)\n",
    "plt.show()"
   ]
  },
  {
   "cell_type": "code",
   "execution_count": 11,
   "metadata": {},
   "outputs": [],
   "source": [
    "import shutil\n",
    "import random\n",
    "\n",
    "\n",
    "source = 'covid19-radiography-database/COVID-19_Radiography_Dataset/COVID/images/'\n",
    "testdest = 'XRay_Data/testset/COVID/'\n",
    "validdest='XRay_Data/valset/COVID/'\n",
    "traindest='XRay_Data/trainset/COVID/'\n",
    "files = os.listdir(source)\n",
    "i=0\n",
    "for f in files:\n",
    "    if i <200:\n",
    "        if os.path.splitext(f)[1] in (\".jpg\", \".gif\", \".png\"):\n",
    "            shutil.move(source + f, testdest)\n",
    "            i+=1\n",
    "    elif i>200 and i<401:\n",
    "        if os.path.splitext(f)[1] in (\".jpg\", \".gif\", \".png\"):\n",
    "            shutil.move(source + f, validdest)\n",
    "            i+=1\n",
    "    elif i>401 and i<802:\n",
    "        if os.path.splitext(f)[1] in (\".jpg\", \".gif\", \".png\"):\n",
    "            shutil.move(source + f, traindest)\n",
    "            i+=1\n",
    "    else:\n",
    "        break\n"
   ]
  },
  {
   "cell_type": "code",
   "execution_count": 12,
   "metadata": {},
   "outputs": [],
   "source": [
    "source = 'covid19-radiography-database/COVID-19_Radiography_Dataset/Normal/images/'\n",
    "testdest = 'XRay_Data/testset/Normal/'\n",
    "validdest='XRay_Data/valset/Normal/'\n",
    "traindest='XRay_Data/trainset/Normal/'\n",
    "files = os.listdir(source)\n",
    "i=0\n",
    "for f in files:\n",
    "    if i <200:\n",
    "        if os.path.splitext(f)[1] in (\".jpg\", \".gif\", \".png\"):\n",
    "            shutil.move(source + f, testdest)\n",
    "            i+=1\n",
    "    elif i>200 and i<401:\n",
    "        if os.path.splitext(f)[1] in (\".jpg\", \".gif\", \".png\"):\n",
    "            shutil.move(source + f, validdest)\n",
    "            i+=1\n",
    "    else:\n",
    "        if os.path.splitext(f)[1] in (\".jpg\", \".gif\", \".png\"):\n",
    "            shutil.move(source + f, traindest)\n",
    "            i+=1\n",
    "\n"
   ]
  },
  {
   "cell_type": "code",
   "execution_count": 13,
   "metadata": {},
   "outputs": [],
   "source": [
    "source = 'covid19-radiography-database/COVID-19_Radiography_Dataset/Viral Pneumonia/images/'\n",
    "testdest = 'XRay_Data/testset/Viral Pneumonia/'\n",
    "validdest='XRay_Data/valset/Viral Pneumonia/'\n",
    "traindest='XRay_Data/trainset/Viral Pneumonia/'\n",
    "files = os.listdir(source)\n",
    "i=0\n",
    "for f in files:\n",
    "    if i <200:\n",
    "        if os.path.splitext(f)[1] in (\".jpg\", \".gif\", \".png\"):\n",
    "            shutil.move(source + f, testdest)\n",
    "            i+=1\n",
    "    elif i>200 and i<401:\n",
    "        if os.path.splitext(f)[1] in (\".jpg\", \".gif\", \".png\"):\n",
    "            shutil.move(source + f, validdest)\n",
    "            i+=1\n",
    "    else:\n",
    "        if os.path.splitext(f)[1] in (\".jpg\", \".gif\", \".png\"):\n",
    "            shutil.move(source + f, traindest)\n",
    "            i+=1\n",
    "\n"
   ]
  },
  {
   "cell_type": "code",
   "execution_count": 8,
   "metadata": {},
   "outputs": [
    {
     "name": "stdout",
     "output_type": "stream",
     "text": [
      "test size COVID  3216\n",
      "test size large  9792\n",
      "test size Viral Pneumonia  945\n"
     ]
    }
   ],
   "source": [
    "train_ds='./XRayData/trainset'\n",
    "train_COVID=os.listdir(train_ds+'/COVID')\n",
    "train_Normal=os.listdir(train_ds+'/Normal')\n",
    "train_Viral_Pneumonia=os.listdir(train_ds+'/Viral Pneumonia')\n",
    "\n",
    "\n",
    "print('test size COVID ',len(train_COVID))\n",
    "print('test size large ',len(train_Normal))\n",
    "print('test size Viral Pneumonia ',len(train_Viral_Pneumonia))"
   ]
  },
  {
   "cell_type": "code",
   "execution_count": null,
   "metadata": {},
   "outputs": [],
   "source": []
  }
 ],
 "metadata": {
  "kernelspec": {
   "display_name": "Python 3",
   "language": "python",
   "name": "python3"
  },
  "language_info": {
   "codemirror_mode": {
    "name": "ipython",
    "version": 3
   },
   "file_extension": ".py",
   "mimetype": "text/x-python",
   "name": "python",
   "nbconvert_exporter": "python",
   "pygments_lexer": "ipython3",
   "version": "3.7.4"
  }
 },
 "nbformat": 4,
 "nbformat_minor": 4
}
